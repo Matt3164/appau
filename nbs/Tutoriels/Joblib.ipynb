{
 "cells": [
  {
   "cell_type": "markdown",
   "id": "9e738894",
   "metadata": {},
   "source": [
    "# Joblib\n",
    "\n",
    "https://github.com/joblib/joblib/blob/master/examples/memory_basic_usage.py"
   ]
  },
  {
   "cell_type": "markdown",
   "id": "91f2513f",
   "metadata": {},
   "source": [
    "Définition d'une fonction lente et de sa variante avec cache"
   ]
  },
  {
   "cell_type": "code",
   "execution_count": null,
   "id": "7da5c26c",
   "metadata": {},
   "outputs": [],
   "source": [
    "import time\n",
    "import numpy as np\n",
    "\n",
    "\n",
    "def costly_compute(data, column_index=0):\n",
    "    \"\"\"Simulate an expensive computation\"\"\"\n",
    "    time.sleep(3)\n",
    "    return data[column_index]\n",
    "\n",
    "from joblib import Memory\n",
    "location = './cachedir'\n",
    "memory = Memory(location, verbose=0)\n",
    "\n",
    "costly_compute_cached = memory.cache(costly_compute)"
   ]
  },
  {
   "cell_type": "markdown",
   "id": "412bcdfa",
   "metadata": {},
   "source": [
    "Faisons les tests:"
   ]
  },
  {
   "cell_type": "code",
   "execution_count": null,
   "id": "b81d6fd4",
   "metadata": {},
   "outputs": [
    {
     "name": "stdout",
     "output_type": "stream",
     "text": [
      "Sans cache :\n",
      "\n",
      "La fonction a pris : 3.00 s .\n",
      "Avec l'option cache mais le cache est vide :\n",
      "\n",
      "La fonction a pris 3.04 s .\n",
      "Avec l'option cache mais le cache est rempli :\n",
      "\n",
      "La fonction a pris 0.01 s .\n"
     ]
    }
   ],
   "source": [
    "rng = np.random.RandomState(42)\n",
    "data = rng.randn(int(1e5), 10)\n",
    "start = time.time()\n",
    "data_trans = costly_compute(data)\n",
    "end = time.time()\n",
    "\n",
    "print(\"Sans cache :\")\n",
    "print('\\nLa fonction a pris : {:.2f} s .'.format(end - start))\n",
    "\n",
    "start = time.time()\n",
    "data_trans = costly_compute_cached(data)\n",
    "end = time.time()\n",
    "print(\"Avec l'option cache mais le cache est vide :\")\n",
    "print('\\nLa fonction a pris {:.2f} s .'.format(end - start))\n",
    "\n",
    "start = time.time()\n",
    "data_trans = costly_compute_cached(data)\n",
    "end = time.time()\n",
    "print(\"Avec l'option cache mais le cache est rempli :\")\n",
    "print('\\nLa fonction a pris {:.2f} s .'.format(end - start))"
   ]
  }
 ],
 "metadata": {
  "kernelspec": {
   "display_name": "Python 3 (ipykernel)",
   "language": "python",
   "name": "python3"
  }
 },
 "nbformat": 4,
 "nbformat_minor": 5
}
