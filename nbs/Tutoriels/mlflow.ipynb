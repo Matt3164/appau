{
 "cells": [
  {
   "cell_type": "markdown",
   "id": "40c544dc",
   "metadata": {},
   "source": [
    "# MLFlow"
   ]
  },
  {
   "cell_type": "code",
   "execution_count": null,
   "id": "076f714f",
   "metadata": {},
   "outputs": [
    {
     "data": {
      "text/plain": [
       "'import mlflow\\n\\nwith mlflow.start_run():\\n        \\n        # ... Fit model   \\n\\n        mlflow.log_param(\"alpha\", alpha)\\n        mlflow.log_param(\"l1_ratio\", l1_ratio)\\n        mlflow.log_metric(\"rmse\", rmse)\\n        mlflow.log_metric(\"r2\", r2)\\n        mlflow.log_metric(\"mae\", mae)\\n\\n        mlflow.sklearn.log_model(lr, \"model\")'"
      ]
     },
     "execution_count": null,
     "metadata": {},
     "output_type": "execute_result"
    }
   ],
   "source": [
    "\"\"\"import mlflow\n",
    "\n",
    "with mlflow.start_run():\n",
    "        \n",
    "# ... Fit model   \n",
    "\n",
    "mlflow.log_param(\"alpha\", alpha)\n",
    "mlflow.log_param(\"l1_ratio\", l1_ratio)\n",
    "mlflow.log_metric(\"rmse\", rmse)\n",
    "mlflow.log_metric(\"r2\", r2)\n",
    "mlflow.log_metric(\"mae\", mae)\n",
    "\n",
    "mlflow.sklearn.log_model(lr, \"model\")\"\"\""
   ]
  }
 ],
 "metadata": {
  "kernelspec": {
   "display_name": "Python 3 (ipykernel)",
   "language": "python",
   "name": "python3"
  }
 },
 "nbformat": 4,
 "nbformat_minor": 5
}
