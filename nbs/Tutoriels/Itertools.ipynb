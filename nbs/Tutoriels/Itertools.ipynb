{
 "cells": [
  {
   "cell_type": "markdown",
   "metadata": {},
   "source": [
    "# Itertools"
   ]
  },
  {
   "cell_type": "code",
   "execution_count": null,
   "metadata": {},
   "outputs": [],
   "source": [
    "import itertools"
   ]
  },
  {
   "cell_type": "markdown",
   "metadata": {},
   "source": [
    "Itérer sur un sous ensemble de l'itérateur"
   ]
  },
  {
   "cell_type": "code",
   "execution_count": null,
   "metadata": {},
   "outputs": [
    {
     "name": "stdout",
     "output_type": "stream",
     "text": [
      "[2, 12, 22, 32, 42]\n"
     ]
    }
   ],
   "source": [
    "from itertools import islice\n",
    "# Nouvel itérateur démarrant à 2 jusqu'à 50 , 10 par 10\n",
    "print( [ e for e in islice(range(100),2, 50, 10)] )"
   ]
  },
  {
   "cell_type": "markdown",
   "metadata": {},
   "source": [
    "Chainer plusieurs itérateurs : passe les éléments du premier itérateur en revue puis ceux du second"
   ]
  },
  {
   "cell_type": "code",
   "execution_count": null,
   "metadata": {},
   "outputs": [
    {
     "name": "stdout",
     "output_type": "stream",
     "text": [
      "[1, 2, 5, 6, 7]\n"
     ]
    }
   ],
   "source": [
    "print(list(itertools.chain.from_iterable([[1,2], [5,6,7]])))"
   ]
  }
 ],
 "metadata": {
  "kernelspec": {
   "display_name": "Python 3 (ipykernel)",
   "language": "python",
   "name": "python3"
  }
 },
 "nbformat": 4,
 "nbformat_minor": 4
}
