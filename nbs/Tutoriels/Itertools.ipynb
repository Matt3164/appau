{
 "cells": [
  {
   "cell_type": "markdown",
   "metadata": {},
   "source": [
    "# Itertools\n",
    "\n",
    "[Reference doc](https://docs.python.org/fr/3/library/itertools.html)"
   ]
  },
  {
   "cell_type": "code",
   "execution_count": null,
   "metadata": {},
   "outputs": [],
   "source": [
    "import itertools"
   ]
  },
  {
   "cell_type": "markdown",
   "metadata": {},
   "source": [
    "Itérer sur un sous ensemble de l'itérateur"
   ]
  },
  {
   "cell_type": "code",
   "execution_count": null,
   "metadata": {},
   "outputs": [
    {
     "name": "stdout",
     "output_type": "stream",
     "text": [
      "[2, 12, 22, 32, 42]\n"
     ]
    }
   ],
   "source": [
    "from itertools import islice\n",
    "# Nouvel itérateur démarrant à 2 jusqu'à 50 , 10 par 10\n",
    "print( [ e for e in islice(range(100),2, 50, 10)] )"
   ]
  },
  {
   "cell_type": "markdown",
   "metadata": {},
   "source": [
    "Chainer plusieurs itérateurs : passe les éléments du premier itérateur en revue puis ceux du second"
   ]
  },
  {
   "cell_type": "code",
   "execution_count": null,
   "metadata": {},
   "outputs": [
    {
     "name": "stdout",
     "output_type": "stream",
     "text": [
      "[1, 2, 5, 6, 7]\n"
     ]
    }
   ],
   "source": [
    "print(list(itertools.chain.from_iterable([[1,2], [5,6,7]])))"
   ]
  },
  {
   "cell_type": "markdown",
   "metadata": {},
   "source": [
    "Copier un itérateur : un itérateur se \"vide\" lorsque l'on itère dessus, une copie permet de le réutiliser par exemple."
   ]
  },
  {
   "cell_type": "code",
   "execution_count": null,
   "metadata": {},
   "outputs": [
    {
     "name": "stdout",
     "output_type": "stream",
     "text": [
      "Values: 1st iter 0, 2nd iter 1\n",
      "Values: 1st iter 1, 2nd iter 2\n",
      "Values: 1st iter 2, 2nd iter 3\n"
     ]
    }
   ],
   "source": [
    "init_iter = range(3)\n",
    "# Crée deux itérateurs synchronisés\n",
    "sync1, sync2 = itertools.tee(init_iter)\n",
    "# Applique deux fonctions différentes pour valider la copie des itérateurs\n",
    "for val, valplusone in zip(sync1, map(lambda x: x+1, sync2)):\n",
    "    print(f\"Values: 1st iter {val}, 2nd iter {valplusone}\")"
   ]
  }
 ],
 "metadata": {
  "kernelspec": {
   "display_name": "Python 3 (ipykernel)",
   "language": "python",
   "name": "python3"
  }
 },
 "nbformat": 4,
 "nbformat_minor": 4
}
