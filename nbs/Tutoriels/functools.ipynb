{
 "cells": [
  {
   "cell_type": "markdown",
   "id": "5fba0e7b",
   "metadata": {},
   "source": [
    "# Functools\n",
    "\n",
    "Librairie pour manipuler les fonctions facilement"
   ]
  },
  {
   "cell_type": "markdown",
   "id": "2f967a13",
   "metadata": {},
   "source": [
    "Créer une nouvelle fonction en fixant des arguments"
   ]
  },
  {
   "cell_type": "code",
   "execution_count": null,
   "id": "bfbb897b",
   "metadata": {},
   "outputs": [
    {
     "name": "stdout",
     "output_type": "stream",
     "text": [
      "4\n"
     ]
    }
   ],
   "source": [
    "from functools import partial\n",
    "\n",
    "def add(i1: int, i2: int)->int:\n",
    "    return i1+i2\n",
    "\n",
    "add2 = partial(add, i2=2)\n",
    "\n",
    "print(add2(2))\n"
   ]
  }
 ],
 "metadata": {
  "kernelspec": {
   "display_name": "Python 3 (ipykernel)",
   "language": "python",
   "name": "python3"
  }
 },
 "nbformat": 4,
 "nbformat_minor": 5
}
