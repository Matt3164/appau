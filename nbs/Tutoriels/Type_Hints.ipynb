{
 "cells": [
  {
   "cell_type": "markdown",
   "id": "d5e6bcd6",
   "metadata": {},
   "source": [
    "# Type Hints\n",
    "\n",
    "ou comment donner des indications sur les types attendus en entrée ou en sortie des fonctions. Très utile pour l'autocomplétion syntaxique dans les éditeurs."
   ]
  },
  {
   "cell_type": "code",
   "execution_count": null,
   "id": "ace5c358",
   "metadata": {},
   "outputs": [
    {
     "name": "stdout",
     "output_type": "stream",
     "text": [
      "a_1_2\n"
     ]
    }
   ],
   "source": [
    "def f(a: int, b: float, s: str)->str:\n",
    "    return s + f\"{a}_{b}\"\n",
    "\n",
    "print(f(1, 2, \"a_\"))"
   ]
  },
  {
   "cell_type": "markdown",
   "id": "18d087aa",
   "metadata": {},
   "source": [
    "WIP : Pour aller plus loin, on peut parler des Generic, des Optional ou les référénces aux classes dans les constructeurs"
   ]
  }
 ],
 "metadata": {
  "kernelspec": {
   "display_name": "Python 3 (ipykernel)",
   "language": "python",
   "name": "python3"
  }
 },
 "nbformat": 4,
 "nbformat_minor": 5
}
