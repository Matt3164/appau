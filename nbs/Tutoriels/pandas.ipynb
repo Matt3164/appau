{
 "cells": [
  {
   "cell_type": "markdown",
   "id": "17cce443",
   "metadata": {},
   "source": [
    "# Pandas\n",
    "\n",
    "Très bonne librairie avec des fonctions utilitaires pour gérer des données tabulaires à filtrer, aggréger, ..."
   ]
  },
  {
   "cell_type": "markdown",
   "id": "2ca876bb",
   "metadata": {},
   "source": [
    "Il existe beaucoup de moyens divfférents pour créer une DataFrame en voici des exemples:"
   ]
  },
  {
   "cell_type": "code",
   "execution_count": null,
   "id": "da1f7e6a",
   "metadata": {},
   "outputs": [
    {
     "name": "stdout",
     "output_type": "stream",
     "text": [
      "       col1      col2\n",
      "0  0.277083  0.086090\n",
      "1  0.946478  0.591043\n",
      "2  0.383442  0.147374\n",
      "3  0.269483  0.795268\n",
      "4  0.163673  0.095232\n",
      "       col1      col2\n",
      "0  0.277083  0.086090\n",
      "1  0.946478  0.591043\n",
      "2  0.383442  0.147374\n",
      "3  0.269483  0.795268\n",
      "4  0.163673  0.095232\n",
      "       col1      col2\n",
      "0  0.277083  0.086090\n",
      "1  0.946478  0.591043\n",
      "2  0.383442  0.147374\n",
      "3  0.269483  0.795268\n",
      "4  0.163673  0.095232\n"
     ]
    }
   ],
   "source": [
    "import numpy as np\n",
    "import pandas\n",
    "\n",
    "col1 = np.random.rand(100)\n",
    "col2 = np.random.rand(100)\n",
    "\n",
    "# From dict of numpy arrays\n",
    "\n",
    "print( pandas.DataFrame.from_dict({\"col1\":col1,\"col2\":col2}).head() ) \n",
    "\n",
    "# From numpy array and list of column names\n",
    "\n",
    "print(pandas.DataFrame.from_records(np.hstack([col1.reshape(-1,1), col2.reshape(-1,1)]), columns=[\"col1\", \"col2\"]).head())\n",
    "\n",
    "# From list of row dict\n",
    "\n",
    "row_dict = list( map(lambda x: {\"col1\": x[0], \"col2\": x[1]} , zip(col1, col2)) )\n",
    "\n",
    "print(pandas.DataFrame.from_records(row_dict).head())\n",
    "\n"
   ]
  },
  {
   "cell_type": "markdown",
   "id": "b5f3cef3",
   "metadata": {},
   "source": [
    "Calculer les éléments uniques d'un tableau ou d'une dataframe\n"
   ]
  },
  {
   "cell_type": "code",
   "execution_count": null,
   "id": "37105686",
   "metadata": {},
   "outputs": [
    {
     "name": "stdout",
     "output_type": "stream",
     "text": [
      "[158  13  71   4 184  44 173 144 251 193]\n"
     ]
    }
   ],
   "source": [
    "np.unique(np.random.randint(0,255,size=(10,)))\n",
    "\n",
    "np.unique(np.random.randint(0,255,size=(10,)), return_counts=True)\n",
    "\n",
    "df = pandas.DataFrame(np.random.randint(0,255,size=(10,)) , columns=[\"test\"])\n",
    "print(pandas.unique(df.test))\n"
   ]
  },
  {
   "cell_type": "markdown",
   "id": "7e2aa419",
   "metadata": {},
   "source": [
    "Entrées/sorties sur système de fichiers"
   ]
  },
  {
   "cell_type": "code",
   "execution_count": null,
   "id": "09003576",
   "metadata": {},
   "outputs": [],
   "source": [
    "col1 = np.random.rand(100)\n",
    "col2 = np.random.rand(100)\n",
    "\n",
    "df = pandas.DataFrame.from_dict({\"col1\":col1,\"col2\":col2})\n",
    "\n",
    "df.to_csv(\"/tmp/data.csv\")\n",
    "\n",
    "loaded_df = pandas.read_csv(\"/tmp/data.csv\", index_col=0)\n",
    "\n"
   ]
  }
 ],
 "metadata": {
  "kernelspec": {
   "display_name": "Python 3 (ipykernel)",
   "language": "python",
   "name": "python3"
  }
 },
 "nbformat": 4,
 "nbformat_minor": 5
}
