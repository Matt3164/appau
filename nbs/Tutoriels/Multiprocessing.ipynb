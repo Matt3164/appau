{
 "cells": [
  {
   "cell_type": "markdown",
   "id": "39cd7e62",
   "metadata": {},
   "source": [
    "# Multiprocessing\n",
    "\n",
    "Comment appliquer une fonction en parallèle sur tous les éléments d'une liste"
   ]
  },
  {
   "cell_type": "code",
   "execution_count": null,
   "id": "6893d8ae",
   "metadata": {},
   "outputs": [
    {
     "name": "stdout",
     "output_type": "stream",
     "text": [
      "[1, 3, 7, 13, 21, 31, 43, 57, 73, 91]\n"
     ]
    }
   ],
   "source": [
    "import multiprocessing\n",
    "\n",
    "def f(x: float)->float:\n",
    "    return x**2 + x + 1\n",
    "\n",
    "samples = list(range(10))\n",
    "\n",
    "with multiprocessing.Pool(4) as p:\n",
    "        print(p.map(f, samples))"
   ]
  },
  {
   "cell_type": "markdown",
   "id": "5200b074",
   "metadata": {},
   "source": [
    "Pour aller plus loin, on peut utiliser `tqdm` pour avoir une barre de progression en plus."
   ]
  },
  {
   "cell_type": "code",
   "execution_count": null,
   "id": "23d67350",
   "metadata": {},
   "outputs": [
    {
     "data": {
      "application/json": {
       "ascii": false,
       "bar_format": null,
       "colour": null,
       "elapsed": 0.009082794189453125,
       "initial": 0,
       "n": 0,
       "ncols": null,
       "nrows": 13,
       "postfix": null,
       "prefix": "",
       "rate": null,
       "total": 10,
       "unit": "it",
       "unit_divisor": 1000,
       "unit_scale": false
      },
      "application/vnd.jupyter.widget-view+json": {
       "model_id": "e4bc3540d1e84f17848367b5d7f63f76",
       "version_major": 2,
       "version_minor": 0
      },
      "text/plain": [
       "  0%|          | 0/10 [00:00<?, ?it/s]"
      ]
     },
     "metadata": {},
     "output_type": "display_data"
    },
    {
     "data": {
      "text/plain": [
       "[1, 3, 7, 13, 21, 31, 43, 57, 73, 91]"
      ]
     },
     "execution_count": null,
     "metadata": {},
     "output_type": "execute_result"
    }
   ],
   "source": [
    "from tqdm.contrib.concurrent import process_map\n",
    "\n",
    "process_map(f, samples, max_workers=4)"
   ]
  }
 ],
 "metadata": {
  "kernelspec": {
   "display_name": "Python 3 (ipykernel)",
   "language": "python",
   "name": "python3"
  }
 },
 "nbformat": 4,
 "nbformat_minor": 5
}
