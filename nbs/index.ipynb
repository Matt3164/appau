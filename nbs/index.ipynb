{
 "cells": [
  {
   "cell_type": "markdown",
   "metadata": {},
   "source": [
    "# appau : APPrentissage AUtomatique\n",
    "\n",
    "> Bibliothèque de ressources pour l'introduction à l'apprentissage automatique"
   ]
  },
  {
   "cell_type": "markdown",
   "metadata": {},
   "source": [
    "Ce repo contient des tutoriels pour les fonctions essentielles liées à l'apprentissage automatique.\n",
    "\n",
    "\n",
    "Si il manque quelque chose, n'hésite pas à me signaler en ISSUES"
   ]
  }
 ],
 "metadata": {
  "kernelspec": {
   "display_name": "Python 3 (ipykernel)",
   "language": "python",
   "name": "python3"
  }
 },
 "nbformat": 4,
 "nbformat_minor": 4
}
